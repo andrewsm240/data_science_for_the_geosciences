{
 "cells": [
  {
   "cell_type": "code",
   "execution_count": 1,
   "id": "26dcf867-5444-44b7-9408-a3e75be50fc2",
   "metadata": {},
   "outputs": [],
   "source": [
    "# Import libraries\n",
    "import pandas as pd\n",
    "import matplotlib.pyplot as plt"
   ]
  },
  {
   "cell_type": "markdown",
   "id": "dbde44f1-e5cb-4a2f-9543-2a8bbb4fa6eb",
   "metadata": {},
   "source": [
    "## Applied Pandas Example: Create a basic climograph"
   ]
  },
  {
   "cell_type": "markdown",
   "id": "27d61e64-996b-4053-b4d6-1b3f524e171c",
   "metadata": {},
   "source": [
    "#### Daily temperature (max/min) and precipitation from O'Hare Airport (1991-2020) were downloaded as a CSV file from: https://www.ncei.noaa.gov/cdo-web/datasets/GHCND/stations/GHCND:USW00094846/detail"
   ]
  },
  {
   "cell_type": "markdown",
   "id": "92596650-4267-46a8-8e96-23c6494fe847",
   "metadata": {},
   "source": [
    "#### We can use 'read_csv' to open the CSV file from NCEI using Pandas."
   ]
  },
  {
   "cell_type": "code",
   "execution_count": 2,
   "id": "28aa4862-a9c4-4ae1-9a63-a7973f0db37d",
   "metadata": {},
   "outputs": [
    {
     "data": {
      "text/html": [
       "<div>\n",
       "<style scoped>\n",
       "    .dataframe tbody tr th:only-of-type {\n",
       "        vertical-align: middle;\n",
       "    }\n",
       "\n",
       "    .dataframe tbody tr th {\n",
       "        vertical-align: top;\n",
       "    }\n",
       "\n",
       "    .dataframe thead th {\n",
       "        text-align: right;\n",
       "    }\n",
       "</style>\n",
       "<table border=\"1\" class=\"dataframe\">\n",
       "  <thead>\n",
       "    <tr style=\"text-align: right;\">\n",
       "      <th></th>\n",
       "      <th>STATION</th>\n",
       "      <th>NAME</th>\n",
       "      <th>DATE</th>\n",
       "      <th>PRCP</th>\n",
       "      <th>TMAX</th>\n",
       "      <th>TMIN</th>\n",
       "    </tr>\n",
       "  </thead>\n",
       "  <tbody>\n",
       "    <tr>\n",
       "      <th>0</th>\n",
       "      <td>USW00094846</td>\n",
       "      <td>CHICAGO OHARE INTERNATIONAL AIRPORT, IL US</td>\n",
       "      <td>1991-01-01</td>\n",
       "      <td>0.00</td>\n",
       "      <td>30</td>\n",
       "      <td>12</td>\n",
       "    </tr>\n",
       "    <tr>\n",
       "      <th>1</th>\n",
       "      <td>USW00094846</td>\n",
       "      <td>CHICAGO OHARE INTERNATIONAL AIRPORT, IL US</td>\n",
       "      <td>1991-01-02</td>\n",
       "      <td>0.00</td>\n",
       "      <td>24</td>\n",
       "      <td>6</td>\n",
       "    </tr>\n",
       "    <tr>\n",
       "      <th>2</th>\n",
       "      <td>USW00094846</td>\n",
       "      <td>CHICAGO OHARE INTERNATIONAL AIRPORT, IL US</td>\n",
       "      <td>1991-01-03</td>\n",
       "      <td>0.00</td>\n",
       "      <td>16</td>\n",
       "      <td>-2</td>\n",
       "    </tr>\n",
       "    <tr>\n",
       "      <th>3</th>\n",
       "      <td>USW00094846</td>\n",
       "      <td>CHICAGO OHARE INTERNATIONAL AIRPORT, IL US</td>\n",
       "      <td>1991-01-04</td>\n",
       "      <td>0.00</td>\n",
       "      <td>24</td>\n",
       "      <td>3</td>\n",
       "    </tr>\n",
       "    <tr>\n",
       "      <th>4</th>\n",
       "      <td>USW00094846</td>\n",
       "      <td>CHICAGO OHARE INTERNATIONAL AIRPORT, IL US</td>\n",
       "      <td>1991-01-05</td>\n",
       "      <td>0.26</td>\n",
       "      <td>30</td>\n",
       "      <td>21</td>\n",
       "    </tr>\n",
       "    <tr>\n",
       "      <th>...</th>\n",
       "      <td>...</td>\n",
       "      <td>...</td>\n",
       "      <td>...</td>\n",
       "      <td>...</td>\n",
       "      <td>...</td>\n",
       "      <td>...</td>\n",
       "    </tr>\n",
       "    <tr>\n",
       "      <th>10953</th>\n",
       "      <td>USW00094846</td>\n",
       "      <td>CHICAGO OHARE INTERNATIONAL AIRPORT, IL US</td>\n",
       "      <td>2020-12-27</td>\n",
       "      <td>0.00</td>\n",
       "      <td>47</td>\n",
       "      <td>25</td>\n",
       "    </tr>\n",
       "    <tr>\n",
       "      <th>10954</th>\n",
       "      <td>USW00094846</td>\n",
       "      <td>CHICAGO OHARE INTERNATIONAL AIRPORT, IL US</td>\n",
       "      <td>2020-12-28</td>\n",
       "      <td>0.00</td>\n",
       "      <td>34</td>\n",
       "      <td>21</td>\n",
       "    </tr>\n",
       "    <tr>\n",
       "      <th>10955</th>\n",
       "      <td>USW00094846</td>\n",
       "      <td>CHICAGO OHARE INTERNATIONAL AIRPORT, IL US</td>\n",
       "      <td>2020-12-29</td>\n",
       "      <td>0.52</td>\n",
       "      <td>32</td>\n",
       "      <td>18</td>\n",
       "    </tr>\n",
       "    <tr>\n",
       "      <th>10956</th>\n",
       "      <td>USW00094846</td>\n",
       "      <td>CHICAGO OHARE INTERNATIONAL AIRPORT, IL US</td>\n",
       "      <td>2020-12-30</td>\n",
       "      <td>0.19</td>\n",
       "      <td>35</td>\n",
       "      <td>26</td>\n",
       "    </tr>\n",
       "    <tr>\n",
       "      <th>10957</th>\n",
       "      <td>USW00094846</td>\n",
       "      <td>CHICAGO OHARE INTERNATIONAL AIRPORT, IL US</td>\n",
       "      <td>2020-12-31</td>\n",
       "      <td>0.00</td>\n",
       "      <td>29</td>\n",
       "      <td>18</td>\n",
       "    </tr>\n",
       "  </tbody>\n",
       "</table>\n",
       "<p>10958 rows × 6 columns</p>\n",
       "</div>"
      ],
      "text/plain": [
       "           STATION                                        NAME        DATE  \\\n",
       "0      USW00094846  CHICAGO OHARE INTERNATIONAL AIRPORT, IL US  1991-01-01   \n",
       "1      USW00094846  CHICAGO OHARE INTERNATIONAL AIRPORT, IL US  1991-01-02   \n",
       "2      USW00094846  CHICAGO OHARE INTERNATIONAL AIRPORT, IL US  1991-01-03   \n",
       "3      USW00094846  CHICAGO OHARE INTERNATIONAL AIRPORT, IL US  1991-01-04   \n",
       "4      USW00094846  CHICAGO OHARE INTERNATIONAL AIRPORT, IL US  1991-01-05   \n",
       "...            ...                                         ...         ...   \n",
       "10953  USW00094846  CHICAGO OHARE INTERNATIONAL AIRPORT, IL US  2020-12-27   \n",
       "10954  USW00094846  CHICAGO OHARE INTERNATIONAL AIRPORT, IL US  2020-12-28   \n",
       "10955  USW00094846  CHICAGO OHARE INTERNATIONAL AIRPORT, IL US  2020-12-29   \n",
       "10956  USW00094846  CHICAGO OHARE INTERNATIONAL AIRPORT, IL US  2020-12-30   \n",
       "10957  USW00094846  CHICAGO OHARE INTERNATIONAL AIRPORT, IL US  2020-12-31   \n",
       "\n",
       "       PRCP  TMAX  TMIN  \n",
       "0      0.00    30    12  \n",
       "1      0.00    24     6  \n",
       "2      0.00    16    -2  \n",
       "3      0.00    24     3  \n",
       "4      0.26    30    21  \n",
       "...     ...   ...   ...  \n",
       "10953  0.00    47    25  \n",
       "10954  0.00    34    21  \n",
       "10955  0.52    32    18  \n",
       "10956  0.19    35    26  \n",
       "10957  0.00    29    18  \n",
       "\n",
       "[10958 rows x 6 columns]"
      ]
     },
     "execution_count": 2,
     "metadata": {},
     "output_type": "execute_result"
    }
   ],
   "source": [
    "# Open the CSV using pandas\n",
    "df = pd.read_csv(\"/home/mandrews4/projects/Ohare_temp_precip.csv\")\n",
    "df"
   ]
  },
  {
   "cell_type": "markdown",
   "id": "2aa5b5cd-72c1-4b08-a6de-625b54d36005",
   "metadata": {},
   "source": [
    "#### Converting the DATE column to a datetime object is helpful for working with the data (it allows us to select or group by month/year more easily). We also set the date column as the index of the Pandas DataFrame."
   ]
  },
  {
   "cell_type": "code",
   "execution_count": 3,
   "id": "fb919b5a-e389-4ccc-bf05-f866dc34cab7",
   "metadata": {},
   "outputs": [
    {
     "data": {
      "text/html": [
       "<div>\n",
       "<style scoped>\n",
       "    .dataframe tbody tr th:only-of-type {\n",
       "        vertical-align: middle;\n",
       "    }\n",
       "\n",
       "    .dataframe tbody tr th {\n",
       "        vertical-align: top;\n",
       "    }\n",
       "\n",
       "    .dataframe thead th {\n",
       "        text-align: right;\n",
       "    }\n",
       "</style>\n",
       "<table border=\"1\" class=\"dataframe\">\n",
       "  <thead>\n",
       "    <tr style=\"text-align: right;\">\n",
       "      <th></th>\n",
       "      <th>STATION</th>\n",
       "      <th>NAME</th>\n",
       "      <th>PRCP</th>\n",
       "      <th>TMAX</th>\n",
       "      <th>TMIN</th>\n",
       "    </tr>\n",
       "    <tr>\n",
       "      <th>DATE</th>\n",
       "      <th></th>\n",
       "      <th></th>\n",
       "      <th></th>\n",
       "      <th></th>\n",
       "      <th></th>\n",
       "    </tr>\n",
       "  </thead>\n",
       "  <tbody>\n",
       "    <tr>\n",
       "      <th>1991-01-01</th>\n",
       "      <td>USW00094846</td>\n",
       "      <td>CHICAGO OHARE INTERNATIONAL AIRPORT, IL US</td>\n",
       "      <td>0.00</td>\n",
       "      <td>30</td>\n",
       "      <td>12</td>\n",
       "    </tr>\n",
       "    <tr>\n",
       "      <th>1991-01-02</th>\n",
       "      <td>USW00094846</td>\n",
       "      <td>CHICAGO OHARE INTERNATIONAL AIRPORT, IL US</td>\n",
       "      <td>0.00</td>\n",
       "      <td>24</td>\n",
       "      <td>6</td>\n",
       "    </tr>\n",
       "    <tr>\n",
       "      <th>1991-01-03</th>\n",
       "      <td>USW00094846</td>\n",
       "      <td>CHICAGO OHARE INTERNATIONAL AIRPORT, IL US</td>\n",
       "      <td>0.00</td>\n",
       "      <td>16</td>\n",
       "      <td>-2</td>\n",
       "    </tr>\n",
       "    <tr>\n",
       "      <th>1991-01-04</th>\n",
       "      <td>USW00094846</td>\n",
       "      <td>CHICAGO OHARE INTERNATIONAL AIRPORT, IL US</td>\n",
       "      <td>0.00</td>\n",
       "      <td>24</td>\n",
       "      <td>3</td>\n",
       "    </tr>\n",
       "    <tr>\n",
       "      <th>1991-01-05</th>\n",
       "      <td>USW00094846</td>\n",
       "      <td>CHICAGO OHARE INTERNATIONAL AIRPORT, IL US</td>\n",
       "      <td>0.26</td>\n",
       "      <td>30</td>\n",
       "      <td>21</td>\n",
       "    </tr>\n",
       "    <tr>\n",
       "      <th>...</th>\n",
       "      <td>...</td>\n",
       "      <td>...</td>\n",
       "      <td>...</td>\n",
       "      <td>...</td>\n",
       "      <td>...</td>\n",
       "    </tr>\n",
       "    <tr>\n",
       "      <th>2020-12-27</th>\n",
       "      <td>USW00094846</td>\n",
       "      <td>CHICAGO OHARE INTERNATIONAL AIRPORT, IL US</td>\n",
       "      <td>0.00</td>\n",
       "      <td>47</td>\n",
       "      <td>25</td>\n",
       "    </tr>\n",
       "    <tr>\n",
       "      <th>2020-12-28</th>\n",
       "      <td>USW00094846</td>\n",
       "      <td>CHICAGO OHARE INTERNATIONAL AIRPORT, IL US</td>\n",
       "      <td>0.00</td>\n",
       "      <td>34</td>\n",
       "      <td>21</td>\n",
       "    </tr>\n",
       "    <tr>\n",
       "      <th>2020-12-29</th>\n",
       "      <td>USW00094846</td>\n",
       "      <td>CHICAGO OHARE INTERNATIONAL AIRPORT, IL US</td>\n",
       "      <td>0.52</td>\n",
       "      <td>32</td>\n",
       "      <td>18</td>\n",
       "    </tr>\n",
       "    <tr>\n",
       "      <th>2020-12-30</th>\n",
       "      <td>USW00094846</td>\n",
       "      <td>CHICAGO OHARE INTERNATIONAL AIRPORT, IL US</td>\n",
       "      <td>0.19</td>\n",
       "      <td>35</td>\n",
       "      <td>26</td>\n",
       "    </tr>\n",
       "    <tr>\n",
       "      <th>2020-12-31</th>\n",
       "      <td>USW00094846</td>\n",
       "      <td>CHICAGO OHARE INTERNATIONAL AIRPORT, IL US</td>\n",
       "      <td>0.00</td>\n",
       "      <td>29</td>\n",
       "      <td>18</td>\n",
       "    </tr>\n",
       "  </tbody>\n",
       "</table>\n",
       "<p>10958 rows × 5 columns</p>\n",
       "</div>"
      ],
      "text/plain": [
       "                STATION                                        NAME  PRCP  \\\n",
       "DATE                                                                        \n",
       "1991-01-01  USW00094846  CHICAGO OHARE INTERNATIONAL AIRPORT, IL US  0.00   \n",
       "1991-01-02  USW00094846  CHICAGO OHARE INTERNATIONAL AIRPORT, IL US  0.00   \n",
       "1991-01-03  USW00094846  CHICAGO OHARE INTERNATIONAL AIRPORT, IL US  0.00   \n",
       "1991-01-04  USW00094846  CHICAGO OHARE INTERNATIONAL AIRPORT, IL US  0.00   \n",
       "1991-01-05  USW00094846  CHICAGO OHARE INTERNATIONAL AIRPORT, IL US  0.26   \n",
       "...                 ...                                         ...   ...   \n",
       "2020-12-27  USW00094846  CHICAGO OHARE INTERNATIONAL AIRPORT, IL US  0.00   \n",
       "2020-12-28  USW00094846  CHICAGO OHARE INTERNATIONAL AIRPORT, IL US  0.00   \n",
       "2020-12-29  USW00094846  CHICAGO OHARE INTERNATIONAL AIRPORT, IL US  0.52   \n",
       "2020-12-30  USW00094846  CHICAGO OHARE INTERNATIONAL AIRPORT, IL US  0.19   \n",
       "2020-12-31  USW00094846  CHICAGO OHARE INTERNATIONAL AIRPORT, IL US  0.00   \n",
       "\n",
       "            TMAX  TMIN  \n",
       "DATE                    \n",
       "1991-01-01    30    12  \n",
       "1991-01-02    24     6  \n",
       "1991-01-03    16    -2  \n",
       "1991-01-04    24     3  \n",
       "1991-01-05    30    21  \n",
       "...          ...   ...  \n",
       "2020-12-27    47    25  \n",
       "2020-12-28    34    21  \n",
       "2020-12-29    32    18  \n",
       "2020-12-30    35    26  \n",
       "2020-12-31    29    18  \n",
       "\n",
       "[10958 rows x 5 columns]"
      ]
     },
     "execution_count": 3,
     "metadata": {},
     "output_type": "execute_result"
    }
   ],
   "source": [
    "# Convert DATE column to a datetime object; \"%Y-%m-%d\" matches the date format given in the dataset\n",
    "df['DATE'] = pd.to_datetime(df.DATE, format=\"%Y-%m-%d\")\n",
    "# Set the DATE column as the index\n",
    "df = df.set_index('DATE')\n",
    "df"
   ]
  },
  {
   "cell_type": "markdown",
   "id": "d0136fa7-7faf-43fd-b7f2-c619b2d0347d",
   "metadata": {},
   "source": [
    "#### We don't have any use for the STATION OR NAME columns, so we can drop them from the DataFrame."
   ]
  },
  {
   "cell_type": "code",
   "execution_count": 4,
   "id": "ca2d8ed6-ab82-4958-adfe-1d5a2f35a33f",
   "metadata": {},
   "outputs": [
    {
     "data": {
      "text/html": [
       "<div>\n",
       "<style scoped>\n",
       "    .dataframe tbody tr th:only-of-type {\n",
       "        vertical-align: middle;\n",
       "    }\n",
       "\n",
       "    .dataframe tbody tr th {\n",
       "        vertical-align: top;\n",
       "    }\n",
       "\n",
       "    .dataframe thead th {\n",
       "        text-align: right;\n",
       "    }\n",
       "</style>\n",
       "<table border=\"1\" class=\"dataframe\">\n",
       "  <thead>\n",
       "    <tr style=\"text-align: right;\">\n",
       "      <th></th>\n",
       "      <th>PRCP</th>\n",
       "      <th>TMAX</th>\n",
       "      <th>TMIN</th>\n",
       "    </tr>\n",
       "    <tr>\n",
       "      <th>DATE</th>\n",
       "      <th></th>\n",
       "      <th></th>\n",
       "      <th></th>\n",
       "    </tr>\n",
       "  </thead>\n",
       "  <tbody>\n",
       "    <tr>\n",
       "      <th>1991-01-01</th>\n",
       "      <td>0.00</td>\n",
       "      <td>30</td>\n",
       "      <td>12</td>\n",
       "    </tr>\n",
       "    <tr>\n",
       "      <th>1991-01-02</th>\n",
       "      <td>0.00</td>\n",
       "      <td>24</td>\n",
       "      <td>6</td>\n",
       "    </tr>\n",
       "    <tr>\n",
       "      <th>1991-01-03</th>\n",
       "      <td>0.00</td>\n",
       "      <td>16</td>\n",
       "      <td>-2</td>\n",
       "    </tr>\n",
       "    <tr>\n",
       "      <th>1991-01-04</th>\n",
       "      <td>0.00</td>\n",
       "      <td>24</td>\n",
       "      <td>3</td>\n",
       "    </tr>\n",
       "    <tr>\n",
       "      <th>1991-01-05</th>\n",
       "      <td>0.26</td>\n",
       "      <td>30</td>\n",
       "      <td>21</td>\n",
       "    </tr>\n",
       "    <tr>\n",
       "      <th>...</th>\n",
       "      <td>...</td>\n",
       "      <td>...</td>\n",
       "      <td>...</td>\n",
       "    </tr>\n",
       "    <tr>\n",
       "      <th>2020-12-27</th>\n",
       "      <td>0.00</td>\n",
       "      <td>47</td>\n",
       "      <td>25</td>\n",
       "    </tr>\n",
       "    <tr>\n",
       "      <th>2020-12-28</th>\n",
       "      <td>0.00</td>\n",
       "      <td>34</td>\n",
       "      <td>21</td>\n",
       "    </tr>\n",
       "    <tr>\n",
       "      <th>2020-12-29</th>\n",
       "      <td>0.52</td>\n",
       "      <td>32</td>\n",
       "      <td>18</td>\n",
       "    </tr>\n",
       "    <tr>\n",
       "      <th>2020-12-30</th>\n",
       "      <td>0.19</td>\n",
       "      <td>35</td>\n",
       "      <td>26</td>\n",
       "    </tr>\n",
       "    <tr>\n",
       "      <th>2020-12-31</th>\n",
       "      <td>0.00</td>\n",
       "      <td>29</td>\n",
       "      <td>18</td>\n",
       "    </tr>\n",
       "  </tbody>\n",
       "</table>\n",
       "<p>10958 rows × 3 columns</p>\n",
       "</div>"
      ],
      "text/plain": [
       "            PRCP  TMAX  TMIN\n",
       "DATE                        \n",
       "1991-01-01  0.00    30    12\n",
       "1991-01-02  0.00    24     6\n",
       "1991-01-03  0.00    16    -2\n",
       "1991-01-04  0.00    24     3\n",
       "1991-01-05  0.26    30    21\n",
       "...          ...   ...   ...\n",
       "2020-12-27  0.00    47    25\n",
       "2020-12-28  0.00    34    21\n",
       "2020-12-29  0.52    32    18\n",
       "2020-12-30  0.19    35    26\n",
       "2020-12-31  0.00    29    18\n",
       "\n",
       "[10958 rows x 3 columns]"
      ]
     },
     "execution_count": 4,
     "metadata": {},
     "output_type": "execute_result"
    }
   ],
   "source": [
    "# Drop STATION and NAME columns\n",
    "df = df.drop(columns=['STATION', 'NAME'])\n",
    "df"
   ]
  },
  {
   "cell_type": "markdown",
   "id": "c97dcea9-d982-46fd-a026-77fc65e3c0ae",
   "metadata": {},
   "source": [
    "#### We can easily locate the minimum and maximum of any field over the full period or a subset of the data. For example, we can find the highest daily high temperature (TMAX) and lowest daily low temperature (TMIN) throughout the full period, as well as maximum amount of daily precipitation (PRCP)."
   ]
  },
  {
   "cell_type": "code",
   "execution_count": 5,
   "id": "ddd7dc62-8757-443a-8432-6f00c55399f6",
   "metadata": {},
   "outputs": [
    {
     "data": {
      "text/plain": [
       "104"
      ]
     },
     "execution_count": 5,
     "metadata": {},
     "output_type": "execute_result"
    }
   ],
   "source": [
    "# Find daily maximum high temperature (TMAX) from 1928-present\n",
    "df.TMAX.max()"
   ]
  },
  {
   "cell_type": "code",
   "execution_count": 6,
   "id": "78d592d1-8ec4-44f0-8947-c4b5a821d3a5",
   "metadata": {},
   "outputs": [
    {
     "data": {
      "text/plain": [
       "-23"
      ]
     },
     "execution_count": 6,
     "metadata": {},
     "output_type": "execute_result"
    }
   ],
   "source": [
    "# Find the daily minimum low temperature (TMIN) from 1928-present. \n",
    "df.TMIN.min()"
   ]
  },
  {
   "cell_type": "code",
   "execution_count": 7,
   "id": "8f683026-b3c4-4789-b6fb-8593987038aa",
   "metadata": {},
   "outputs": [
    {
     "data": {
      "text/plain": [
       "6.86"
      ]
     },
     "execution_count": 7,
     "metadata": {},
     "output_type": "execute_result"
    }
   ],
   "source": [
    "# Find the daily maximum precipitation (PRCP) from 1928-present. Given in inches.\n",
    "df.PRCP.max()"
   ]
  },
  {
   "cell_type": "markdown",
   "id": "fc296b62-d565-4a66-a462-35f257c39673",
   "metadata": {},
   "source": [
    "#### For our climograph, we'll want an average temperature column. We can calculate average temperature each day using TMAX and TMIN (TAVG = (TMAX + TMIN) / 2). We'll want to add average temperature to our DataFrame. df['TAVG'] creates a new column named TAVG, derived from our TAVG calculation using TMAX and TMIN."
   ]
  },
  {
   "cell_type": "code",
   "execution_count": 8,
   "id": "1be64e0e-8db5-427d-a028-1ba38fe69962",
   "metadata": {},
   "outputs": [
    {
     "data": {
      "text/html": [
       "<div>\n",
       "<style scoped>\n",
       "    .dataframe tbody tr th:only-of-type {\n",
       "        vertical-align: middle;\n",
       "    }\n",
       "\n",
       "    .dataframe tbody tr th {\n",
       "        vertical-align: top;\n",
       "    }\n",
       "\n",
       "    .dataframe thead th {\n",
       "        text-align: right;\n",
       "    }\n",
       "</style>\n",
       "<table border=\"1\" class=\"dataframe\">\n",
       "  <thead>\n",
       "    <tr style=\"text-align: right;\">\n",
       "      <th></th>\n",
       "      <th>PRCP</th>\n",
       "      <th>TMAX</th>\n",
       "      <th>TMIN</th>\n",
       "      <th>TAVG</th>\n",
       "    </tr>\n",
       "    <tr>\n",
       "      <th>DATE</th>\n",
       "      <th></th>\n",
       "      <th></th>\n",
       "      <th></th>\n",
       "      <th></th>\n",
       "    </tr>\n",
       "  </thead>\n",
       "  <tbody>\n",
       "    <tr>\n",
       "      <th>1991-01-01</th>\n",
       "      <td>0.00</td>\n",
       "      <td>30</td>\n",
       "      <td>12</td>\n",
       "      <td>21.0</td>\n",
       "    </tr>\n",
       "    <tr>\n",
       "      <th>1991-01-02</th>\n",
       "      <td>0.00</td>\n",
       "      <td>24</td>\n",
       "      <td>6</td>\n",
       "      <td>15.0</td>\n",
       "    </tr>\n",
       "    <tr>\n",
       "      <th>1991-01-03</th>\n",
       "      <td>0.00</td>\n",
       "      <td>16</td>\n",
       "      <td>-2</td>\n",
       "      <td>7.0</td>\n",
       "    </tr>\n",
       "    <tr>\n",
       "      <th>1991-01-04</th>\n",
       "      <td>0.00</td>\n",
       "      <td>24</td>\n",
       "      <td>3</td>\n",
       "      <td>13.5</td>\n",
       "    </tr>\n",
       "    <tr>\n",
       "      <th>1991-01-05</th>\n",
       "      <td>0.26</td>\n",
       "      <td>30</td>\n",
       "      <td>21</td>\n",
       "      <td>25.5</td>\n",
       "    </tr>\n",
       "    <tr>\n",
       "      <th>...</th>\n",
       "      <td>...</td>\n",
       "      <td>...</td>\n",
       "      <td>...</td>\n",
       "      <td>...</td>\n",
       "    </tr>\n",
       "    <tr>\n",
       "      <th>2020-12-27</th>\n",
       "      <td>0.00</td>\n",
       "      <td>47</td>\n",
       "      <td>25</td>\n",
       "      <td>36.0</td>\n",
       "    </tr>\n",
       "    <tr>\n",
       "      <th>2020-12-28</th>\n",
       "      <td>0.00</td>\n",
       "      <td>34</td>\n",
       "      <td>21</td>\n",
       "      <td>27.5</td>\n",
       "    </tr>\n",
       "    <tr>\n",
       "      <th>2020-12-29</th>\n",
       "      <td>0.52</td>\n",
       "      <td>32</td>\n",
       "      <td>18</td>\n",
       "      <td>25.0</td>\n",
       "    </tr>\n",
       "    <tr>\n",
       "      <th>2020-12-30</th>\n",
       "      <td>0.19</td>\n",
       "      <td>35</td>\n",
       "      <td>26</td>\n",
       "      <td>30.5</td>\n",
       "    </tr>\n",
       "    <tr>\n",
       "      <th>2020-12-31</th>\n",
       "      <td>0.00</td>\n",
       "      <td>29</td>\n",
       "      <td>18</td>\n",
       "      <td>23.5</td>\n",
       "    </tr>\n",
       "  </tbody>\n",
       "</table>\n",
       "<p>10958 rows × 4 columns</p>\n",
       "</div>"
      ],
      "text/plain": [
       "            PRCP  TMAX  TMIN  TAVG\n",
       "DATE                              \n",
       "1991-01-01  0.00    30    12  21.0\n",
       "1991-01-02  0.00    24     6  15.0\n",
       "1991-01-03  0.00    16    -2   7.0\n",
       "1991-01-04  0.00    24     3  13.5\n",
       "1991-01-05  0.26    30    21  25.5\n",
       "...          ...   ...   ...   ...\n",
       "2020-12-27  0.00    47    25  36.0\n",
       "2020-12-28  0.00    34    21  27.5\n",
       "2020-12-29  0.52    32    18  25.0\n",
       "2020-12-30  0.19    35    26  30.5\n",
       "2020-12-31  0.00    29    18  23.5\n",
       "\n",
       "[10958 rows x 4 columns]"
      ]
     },
     "execution_count": 8,
     "metadata": {},
     "output_type": "execute_result"
    }
   ],
   "source": [
    "# Calculate the average daily temperature each day using TMAX and TMIN\n",
    "df['TAVG'] = ((df.TMAX + df.TMIN) / 2)\n",
    "df"
   ]
  },
  {
   "cell_type": "markdown",
   "id": "8a560155-7dd7-46dd-8e7e-eb5a0ea536a0",
   "metadata": {},
   "source": [
    "### We can now make a basic climograph with our Pandas dataframe."
   ]
  },
  {
   "cell_type": "markdown",
   "id": "576d13ea-fba8-4278-b9a5-9b7a2431ccb0",
   "metadata": {},
   "source": [
    "#### To get the monthly average TMAX, TMIN, and TAVG, we need to group the data by month and then take the mean. We use the groupby function to do so. 'df.index.month' specifies that we want to group the selected variable by the Pandas index (date, in our example) on a monthly basis. Mean calculates the average of our variables for each month."
   ]
  },
  {
   "cell_type": "code",
   "execution_count": 9,
   "id": "d6c1425d-da2c-4bc9-9b65-284cc6463df7",
   "metadata": {},
   "outputs": [
    {
     "data": {
      "text/plain": [
       "DATE\n",
       "1     31.244086\n",
       "2     35.452830\n",
       "3     46.682796\n",
       "4     58.741111\n",
       "5     70.197849\n",
       "6     80.065556\n",
       "7     84.232258\n",
       "8     82.179570\n",
       "9     75.244444\n",
       "10    62.387097\n",
       "11    48.131111\n",
       "12    36.297849\n",
       "Name: TMAX, dtype: float64"
      ]
     },
     "execution_count": 9,
     "metadata": {},
     "output_type": "execute_result"
    }
   ],
   "source": [
    "monthly_TMAX = df.TMAX.groupby(df.index.month).mean()\n",
    "monthly_TMAX"
   ]
  },
  {
   "cell_type": "code",
   "execution_count": 10,
   "id": "7393a197-4ee1-4bac-98ee-a16bddd2f417",
   "metadata": {},
   "outputs": [
    {
     "data": {
      "text/plain": [
       "DATE\n",
       "1     17.219355\n",
       "2     20.225236\n",
       "3     29.498925\n",
       "4     38.906667\n",
       "5     49.262366\n",
       "6     59.286667\n",
       "7     64.925806\n",
       "8     63.727957\n",
       "9     55.680000\n",
       "10    43.933333\n",
       "11    32.648889\n",
       "12    22.889247\n",
       "Name: TMIN, dtype: float64"
      ]
     },
     "execution_count": 10,
     "metadata": {},
     "output_type": "execute_result"
    }
   ],
   "source": [
    "monthly_TMIN = df.TMIN.groupby(df.index.month).mean()\n",
    "monthly_TMIN"
   ]
  },
  {
   "cell_type": "code",
   "execution_count": 11,
   "id": "22b27db9-2310-42ee-9560-bb12b9f814c1",
   "metadata": {},
   "outputs": [
    {
     "data": {
      "text/plain": [
       "DATE\n",
       "1     24.231720\n",
       "2     27.839033\n",
       "3     38.090860\n",
       "4     48.823889\n",
       "5     59.730108\n",
       "6     69.676111\n",
       "7     74.579032\n",
       "8     72.953763\n",
       "9     65.462222\n",
       "10    53.160215\n",
       "11    40.390000\n",
       "12    29.593548\n",
       "Name: TAVG, dtype: float64"
      ]
     },
     "execution_count": 11,
     "metadata": {},
     "output_type": "execute_result"
    }
   ],
   "source": [
    "monthly_TAVG = df.TAVG.groupby(df.index.month).mean()\n",
    "monthly_TAVG"
   ]
  },
  {
   "cell_type": "markdown",
   "id": "3ff4ca7e-84f4-42f0-b527-ae1e304541d8",
   "metadata": {},
   "source": [
    "#### For precipitation, we'll again need to use groupby to group by month. This time we'll sum the precipitation monthly and then divide by the number of years in the dataset (30) to get the monthly average precipitation."
   ]
  },
  {
   "cell_type": "code",
   "execution_count": 12,
   "id": "ed0ce661-dd26-468a-a18b-0f6fd59f624e",
   "metadata": {},
   "outputs": [
    {
     "data": {
      "text/plain": [
       "DATE\n",
       "1     1.983333\n",
       "2     1.966333\n",
       "3     2.449667\n",
       "4     3.749667\n",
       "5     4.492000\n",
       "6     4.116000\n",
       "7     3.712667\n",
       "8     4.244000\n",
       "9     3.185667\n",
       "10    3.430333\n",
       "11    2.415333\n",
       "12    2.103667\n",
       "Name: PRCP, dtype: float64"
      ]
     },
     "execution_count": 12,
     "metadata": {},
     "output_type": "execute_result"
    }
   ],
   "source": [
    "monthly_p = df.PRCP.groupby(df.index.month).sum()\n",
    "monthly_p = monthly_p / 30\n",
    "monthly_p"
   ]
  },
  {
   "cell_type": "markdown",
   "id": "7b0358a2-c17a-48dd-922e-5c208919a40d",
   "metadata": {},
   "source": [
    "### Now that we have monthly average TMAX, TMIN, TAVG, and PRCP, we can plot them on a climograph."
   ]
  },
  {
   "cell_type": "code",
   "execution_count": 13,
   "id": "9718e6b3-e337-48c1-a13d-a82304feb208",
   "metadata": {},
   "outputs": [
    {
     "data": {
      "image/png": "[encoded data removed]",
      "text/plain": [
       "<Figure size 1000x600 with 2 Axes>"
      ]
     },
     "metadata": {},
     "output_type": "display_data"
    }
   ],
   "source": [
    "# Create figure and axis #1\n",
    "fig, ax1 = plt.subplots(figsize=(10,6))\n",
    "\n",
    "# Line plots for temperatures on axis #1\n",
    "ax1.plot(monthly_TMAX)\n",
    "ax1.plot(monthly_TAVG) \n",
    "ax1.plot(monthly_TMIN)\n",
    "ax1.set_ylabel('Average temperature (F)', fontsize=14)\n",
    "ax1.set_ylim(-10, 100)\n",
    "ax1.legend(['Maximum Temperature', 'Temperature', 'Minimum Temperature'], loc=\"upper left\", fontsize=12)\n",
    "labels = ['Jan', 'Feb', 'Mar', 'Apr', 'May', 'Jun', 'Jul', 'Aug', 'Sep', 'Oct', 'Nov', 'Dec']\n",
    "plt.xticks(monthly_TAVG.index, labels, fontsize=14)\n",
    "plt.yticks(fontsize=14)\n",
    "\n",
    "# Set up the second axis; used for precip bar charts\n",
    "ax2 = ax1.twinx()\n",
    "ax2.bar(monthly_p.index, monthly_p, width=0.5, alpha=0.5, color='orange')\n",
    "ax2.grid(False) # turn off grid #2\n",
    "ax2.set_ylabel('Precipitation (in)', fontsize=14)\n",
    "ax2.set_ylim(0, 7)\n",
    "ax2.legend(['Average Precipitation'], loc=\"upper right\", fontsize=12)\n",
    "plt.yticks(fontsize=14)\n",
    "plt.title('Monthly Climate Normals (1991-2020) for Chicago, IL', fontsize=18)\n",
    "plt.show()"
   ]
  },
  {
   "cell_type": "code",
   "execution_count": null,
   "id": "b17a4c2e-7448-4601-a506-e461a8c17cd6",
   "metadata": {},
   "outputs": [],
   "source": []
  }
 ],
 "metadata": {
  "kernelspec": {
   "display_name": "Python [conda env:pyEAE]",
   "language": "python",
   "name": "conda-env-pyEAE-py"
  },
  "language_info": {
   "codemirror_mode": {
    "name": "ipython",
    "version": 3
   },
   "file_extension": ".py",
   "mimetype": "text/x-python",
   "name": "python",
   "nbconvert_exporter": "python",
   "pygments_lexer": "ipython3",
   "version": "3.9.13"
  }
 },
 "nbformat": 4,
 "nbformat_minor": 5
}
